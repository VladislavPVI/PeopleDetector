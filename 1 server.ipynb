{
 "cells": [
  {
   "cell_type": "code",
   "execution_count": 1,
   "metadata": {},
   "outputs": [],
   "source": [
    "from flask import Response\n",
    "from flask import Flask\n",
    "import cv2\n",
    "import threading"
   ]
  },
  {
   "cell_type": "code",
   "execution_count": 2,
   "metadata": {},
   "outputs": [],
   "source": [
    "app = Flask(__name__)"
   ]
  },
  {
   "cell_type": "code",
   "execution_count": 3,
   "metadata": {},
   "outputs": [],
   "source": [
    "vs = cv2.VideoCapture('http://217.152.196.254/axis-cgi/mjpg/video.cgi')"
   ]
  },
  {
   "cell_type": "code",
   "execution_count": 4,
   "metadata": {},
   "outputs": [],
   "source": [
    "frameOut = None\n",
    "lock = threading.Lock()"
   ]
  },
  {
   "cell_type": "code",
   "execution_count": 5,
   "metadata": {},
   "outputs": [],
   "source": [
    "def generate():\n",
    "    \n",
    "    global frameOut, lock\n",
    "    \n",
    "    while True:\n",
    "        with lock:\n",
    "            if frameOut is None:\n",
    "                continue \n",
    "        \n",
    "            (flag, encodedImage) = cv2.imencode(\".jpg\", frameOut)\n",
    "            frameOut = None\n",
    "\n",
    "            if not flag:\n",
    "                continue\n",
    "\n",
    "        yield (b'--frame\\r\\n' b'Content-Type: image/jpeg\\r\\n\\r\\n' +\n",
    "               bytearray(encodedImage) + b'\\r\\n')"
   ]
  },
  {
   "cell_type": "code",
   "execution_count": 6,
   "metadata": {},
   "outputs": [],
   "source": [
    "def updateFrame():\n",
    "\n",
    "    global frameOut, vs\n",
    "\n",
    "    while True:\n",
    "        frame = vs.read()  \n",
    "        if (frame[0]):\n",
    "            frame = frame[1]          \n",
    "            with lock:\n",
    "                frameOut = frame.copy()\n",
    "\n",
    "@app.route(\"/\")\n",
    "def video_feed():\n",
    "    return Response(generate(),\n",
    "                    mimetype=\"multipart/x-mixed-replace; boundary=frame\")"
   ]
  },
  {
   "cell_type": "code",
   "execution_count": null,
   "metadata": {},
   "outputs": [
    {
     "name": "stdout",
     "output_type": "stream",
     "text": [
      " * Serving Flask app \"__main__\" (lazy loading)\n",
      " * Environment: production\n",
      "   WARNING: This is a development server. Do not use it in a production deployment.\n",
      "   Use a production WSGI server instead.\n",
      " * Debug mode: off\n"
     ]
    },
    {
     "name": "stderr",
     "output_type": "stream",
     "text": [
      " * Running on http://127.0.0.1:8080/ (Press CTRL+C to quit)\n",
      "127.0.0.1 - - [03/Jun/2020 12:55:28] \"\u001b[37mGET / HTTP/1.1\u001b[0m\" 200 -\n",
      "127.0.0.1 - - [03/Jun/2020 12:55:45] \"\u001b[37mGET / HTTP/1.1\u001b[0m\" 200 -\n",
      "127.0.0.1 - - [03/Jun/2020 12:58:48] \"\u001b[37mGET / HTTP/1.1\u001b[0m\" 200 -\n"
     ]
    }
   ],
   "source": [
    "t = threading.Thread(target=updateFrame)\n",
    "t.daemon = True\n",
    "t.start()\n",
    "app.run(host=\"127.0.0.1\", port=\"8080\")"
   ]
  }
 ],
 "metadata": {
  "kernelspec": {
   "display_name": "Python 3",
   "language": "python",
   "name": "python3"
  },
  "language_info": {
   "codemirror_mode": {
    "name": "ipython",
    "version": 3
   },
   "file_extension": ".py",
   "mimetype": "text/x-python",
   "name": "python",
   "nbconvert_exporter": "python",
   "pygments_lexer": "ipython3",
   "version": "3.8.0"
  }
 },
 "nbformat": 4,
 "nbformat_minor": 2
}
