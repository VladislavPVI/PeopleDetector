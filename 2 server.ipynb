{
 "cells": [
  {
   "cell_type": "code",
   "execution_count": 1,
   "metadata": {},
   "outputs": [],
   "source": [
    "from flask import Response\n",
    "from flask import Flask\n",
    "from flask import render_template\n",
    "import threading\n",
    "import datetime\n",
    "import cv2\n",
    "import numpy as np\n",
    "from imutils.object_detection import non_max_suppression"
   ]
  },
  {
   "cell_type": "code",
   "execution_count": 2,
   "metadata": {},
   "outputs": [],
   "source": [
    "hog = cv2.HOGDescriptor() \n",
    "hog.setSVMDetector(cv2.HOGDescriptor_getDefaultPeopleDetector()) "
   ]
  },
  {
   "cell_type": "code",
   "execution_count": 3,
   "metadata": {},
   "outputs": [],
   "source": [
    "app = Flask(__name__)"
   ]
  },
  {
   "cell_type": "code",
   "execution_count": 4,
   "metadata": {},
   "outputs": [],
   "source": [
    "@app.route('/')\n",
    "@app.route('/index')\n",
    "def index():\n",
    "    return render_template('index.html')"
   ]
  },
  {
   "cell_type": "code",
   "execution_count": 5,
   "metadata": {},
   "outputs": [],
   "source": [
    "vs = cv2.VideoCapture('http://127.0.0.1:8080/')"
   ]
  },
  {
   "cell_type": "code",
   "execution_count": 6,
   "metadata": {},
   "outputs": [],
   "source": [
    "outputFrame = None\n",
    "lock = threading.Lock()"
   ]
  },
  {
   "cell_type": "code",
   "execution_count": 7,
   "metadata": {},
   "outputs": [],
   "source": [
    "def generate():\n",
    "    \n",
    "    global outputFrame, lock\n",
    "    \n",
    "    while True:\n",
    "        with lock:\n",
    "            if outputFrame is None:\n",
    "                continue\n",
    "                \n",
    "            timestamp = datetime.datetime.now()\n",
    "            cv2.putText(outputFrame, timestamp.strftime(\n",
    "                \"%A %d %B %Y %I:%M:%S%p\"), (10, outputFrame.shape[0] - 10),\n",
    "                        cv2.FONT_HERSHEY_SIMPLEX, 0.35, (0, 0, 255), 1)\n",
    "\n",
    "            (flag, encodedImage) = cv2.imencode(\".jpg\", outputFrame)\n",
    "            outputFrame = None\n",
    "\n",
    "            if not flag:\n",
    "                continue\n",
    "\n",
    "        yield (b'--frame\\r\\n' b'Content-Type: image/jpeg\\r\\n\\r\\n' +\n",
    "               bytearray(encodedImage) + b'\\r\\n')\n",
    "\n",
    "\n",
    "@app.route(\"/video_feed\")\n",
    "def video_feed():\n",
    "    \n",
    "    return Response(generate(),\n",
    "                    mimetype=\"multipart/x-mixed-replace; boundary=frame\")"
   ]
  },
  {
   "cell_type": "code",
   "execution_count": 8,
   "metadata": {},
   "outputs": [],
   "source": [
    "def peopleDetector():\n",
    "\n",
    "    global vs, outputFrame, lock\n",
    "\n",
    "    while True:\n",
    "        frame = vs.read()\n",
    "        \n",
    "        if (frame[0]):\n",
    "            frame = frame[1]\n",
    "\n",
    "             # detect people in the image\n",
    "            (rects, weights) = hog.detectMultiScale(frame, winStride=(4, 4), \n",
    "                                                    padding=(8, 8), scale=1.05)\n",
    "\n",
    "            if rects is not None:\n",
    "                \n",
    "            # apply non-maxima suppression to the bounding boxes using a\n",
    "            # fairly large overlap threshold to try to maintain overlapping\n",
    "            # boxes that are still people\n",
    "            \n",
    "                rects = np.array([[x, y, x + w, y + h] for (x, y, w, h) in rects])\n",
    "                pick = non_max_suppression(rects, probs=None, overlapThresh=0.65)\n",
    "                # draw the final bounding boxes\n",
    "                for (xA, yA, xB, yB) in pick:\n",
    "                    cv2.rectangle(frame, (xA, yA), (xB, yB), (0, 255, 0), 2)          \n",
    "                    \n",
    "            with lock:\n",
    "                outputFrame = frame.copy()"
   ]
  },
  {
   "cell_type": "code",
   "execution_count": null,
   "metadata": {},
   "outputs": [
    {
     "name": "stdout",
     "output_type": "stream",
     "text": [
      " * Serving Flask app \"__main__\" (lazy loading)\n",
      " * Environment: production\n",
      "   WARNING: This is a development server. Do not use it in a production deployment.\n",
      "   Use a production WSGI server instead.\n",
      " * Debug mode: off\n"
     ]
    },
    {
     "name": "stderr",
     "output_type": "stream",
     "text": [
      " * Running on http://127.0.0.1:5000/ (Press CTRL+C to quit)\n",
      "127.0.0.1 - - [03/Jun/2020 12:55:51] \"\u001b[37mGET / HTTP/1.1\u001b[0m\" 200 -\n",
      "127.0.0.1 - - [03/Jun/2020 12:55:51] \"\u001b[37mGET /video_feed HTTP/1.1\u001b[0m\" 200 -\n",
      "127.0.0.1 - - [03/Jun/2020 12:59:57] \"\u001b[37mGET / HTTP/1.1\u001b[0m\" 200 -\n",
      "127.0.0.1 - - [03/Jun/2020 13:00:35] \"\u001b[37mGET /video_feed HTTP/1.1\u001b[0m\" 200 -\n",
      "127.0.0.1 - - [03/Jun/2020 13:00:41] \"\u001b[37mGET /video_feed HTTP/1.1\u001b[0m\" 200 -\n"
     ]
    }
   ],
   "source": [
    "t = threading.Thread(target=peopleDetector)\n",
    "t.daemon = True\n",
    "t.start()\n",
    "app.run()"
   ]
  },
  {
   "cell_type": "code",
   "execution_count": null,
   "metadata": {},
   "outputs": [],
   "source": []
  }
 ],
 "metadata": {
  "kernelspec": {
   "display_name": "Python 3",
   "language": "python",
   "name": "python3"
  },
  "language_info": {
   "codemirror_mode": {
    "name": "ipython",
    "version": 3
   },
   "file_extension": ".py",
   "mimetype": "text/x-python",
   "name": "python",
   "nbconvert_exporter": "python",
   "pygments_lexer": "ipython3",
   "version": "3.8.0"
  }
 },
 "nbformat": 4,
 "nbformat_minor": 2
}
