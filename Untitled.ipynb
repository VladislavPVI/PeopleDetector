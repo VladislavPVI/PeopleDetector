{
 "cells": [
  {
   "cell_type": "code",
   "execution_count": 1,
   "metadata": {},
   "outputs": [],
   "source": [
    "import cv2 \n",
    "import imutils \n",
    "import numpy as np\n",
    "from imutils.object_detection import non_max_suppression"
   ]
  },
  {
   "cell_type": "code",
   "execution_count": 2,
   "metadata": {},
   "outputs": [],
   "source": [
    "#Initializing the HOG person \n",
    "# detector \n",
    "hog = cv2.HOGDescriptor() \n",
    "hog.setSVMDetector(cv2.HOGDescriptor_getDefaultPeopleDetector()) "
   ]
  },
  {
   "cell_type": "code",
   "execution_count": 3,
   "metadata": {},
   "outputs": [],
   "source": [
    "cap = cv2.VideoCapture('street.mp4') "
   ]
  },
  {
   "cell_type": "code",
   "execution_count": 4,
   "metadata": {},
   "outputs": [],
   "source": [
    "while cap.isOpened(): \n",
    "    # Reading the video stream \n",
    "    ret, image = cap.read() \n",
    "    if ret: \n",
    "        image = imutils.resize(image, width=min(400, image.shape[1]))\n",
    "        \n",
    "        # detect people in the image\n",
    "        (rects, weights) = hog.detectMultiScale(image, winStride=(4, 4),\n",
    "            padding=(8, 8), scale=1.05)\n",
    "\n",
    "        # apply non-maxima suppression to the bounding boxes using a\n",
    "        # fairly large overlap threshold to try to maintain overlapping\n",
    "        # boxes that are still people\n",
    "        \n",
    "        rects = np.array([[x, y, x + w, y + h] for (x, y, w, h) in rects])\n",
    "        pick = non_max_suppression(rects, probs=None, overlapThresh=0.65)\n",
    "        # draw the final bounding boxes\n",
    "        for (xA, yA, xB, yB) in pick:\n",
    "            cv2.rectangle(image, (xA, yA), (xB, yB), (0, 255, 0), 2)\n",
    "\n",
    "   \n",
    "        # Showing the output Image \n",
    "        cv2.imshow(\"Image\", image) \n",
    "        if cv2.waitKey(25) & 0xFF == ord('q'): \n",
    "            break\n",
    "    else: \n",
    "        break\n",
    "  \n",
    "#cap.release() \n",
    "cv2.destroyAllWindows() "
   ]
  },
  {
   "cell_type": "code",
   "execution_count": null,
   "metadata": {},
   "outputs": [],
   "source": []
  }
 ],
 "metadata": {
  "kernelspec": {
   "display_name": "Python 3",
   "language": "python",
   "name": "python3"
  },
  "language_info": {
   "codemirror_mode": {
    "name": "ipython",
    "version": 3
   },
   "file_extension": ".py",
   "mimetype": "text/x-python",
   "name": "python",
   "nbconvert_exporter": "python",
   "pygments_lexer": "ipython3",
   "version": "3.8.0"
  }
 },
 "nbformat": 4,
 "nbformat_minor": 2
}
